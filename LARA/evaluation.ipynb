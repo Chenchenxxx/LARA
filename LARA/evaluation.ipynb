{
 "cells": [
  {
   "cell_type": "code",
   "execution_count": null,
   "metadata": {},
   "outputs": [],
   "source": [
    "import numpy as np\n",
    "from sklearn.metrics import ndcg_score\n",
    "import Ipynb_importer"
   ]
  },
  {
   "cell_type": "code",
   "execution_count": null,
   "metadata": {},
   "outputs": [],
   "source": [
    "def RR(r,k):\n",
    "    for i in range(k):\n",
    "        if r[i]==1:\n",
    "            return 1.0/(i + 1.0)\n",
    "    return 0\n",
    "                      \n",
    "def get_DCG(r,k,method=1):\n",
    "    r = np.asfarray(r)[:k]\n",
    "    if r.size:\n",
    "        if method==0:\n",
    "            return r[0]+np.sum(r[1:]/np.log2(np.arange(2,r.size+1)))\n",
    "        elif method==1:\n",
    "            return np.sum(r/np.log2(np.arange(2,r.size+2)))\n",
    "        else:\n",
    "            raise ValueError('method must be 0 or 1.')\n",
    "    return 0.\n",
    "\n",
    "def get_nDCG(r,k,method=1):\n",
    "    dcg_max=get_DCG(sorted(r,reverse=True),k,method)\n",
    "    if not dcg_max:\n",
    "        return 0.\n",
    "    return get_DCG(r,k,method)/dcg_max   \n",
    "    \n",
    "def precision_at_k(r,k):\n",
    "    assert k >= 1\n",
    "    r=np.asarray(r)[:k]\n",
    "    return np.mean(r)\n",
    "\n",
    "def average_precision(r):\n",
    "    r=np.asarray(r)\n",
    "    out=[precision_at_k(r, k + 1) for k in range(r.size) if r[k]]\n",
    "    if not out:\n",
    "        return 0.\n",
    "    return np.mean(out)\n",
    "\n",
    "def mean_average_precision(rs):\n",
    "    return np.mean([average_precision(r) for r in rs])   \n",
    "      \n",
    "    "
   ]
  }
 ],
 "metadata": {
  "kernelspec": {
   "display_name": "Python 3",
   "language": "python",
   "name": "python3"
  },
  "language_info": {
   "codemirror_mode": {
    "name": "ipython",
    "version": 3
   },
   "file_extension": ".py",
   "mimetype": "text/x-python",
   "name": "python",
   "nbconvert_exporter": "python",
   "pygments_lexer": "ipython3",
   "version": "3.6.6"
  }
 },
 "nbformat": 4,
 "nbformat_minor": 4
}
