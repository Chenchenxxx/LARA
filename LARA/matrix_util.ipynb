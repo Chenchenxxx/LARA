{
 "cells": [
  {
   "cell_type": "code",
   "execution_count": 1,
   "metadata": {},
   "outputs": [],
   "source": [
    "import pandas as pd\n",
    "import numpy as np"
   ]
  },
  {
   "cell_type": "code",
   "execution_count": 2,
   "metadata": {},
   "outputs": [],
   "source": [
    "#获取train user_item矩阵\n",
    "def get_UserItemMatrix():\n",
    "    train_pd=pd.read_csv('data/test_data.csv')\n",
    "    UIMatrix=np.zeros(shape=(6040, 2536),dtype=np.int32)\n",
    "    for data in np.array(train_pd):\n",
    "        UIMatrix[data[0]][data[2]]=1 #是否评分\n",
    "    pd.DataFrame(UIMatrix).to_csv('generate_data/test_UIMatrix.csv',index=False)\n",
    "    \n",
    "#利用user交互和item属性构建用户画像\n",
    "def get_UserAttribute():\n",
    "    train_pd=pd.read_csv('data/train_data.csv')\n",
    "    userId=np.array(train_pd['userId'])\n",
    "    attr=[]\n",
    "    for gerne in train_pd['gerne'].values.tolist():\n",
    "        attr.append(gerne.replace('[','').replace(']',''))\n",
    "    attr=np.array(attr)\n",
    "    \n",
    "    user_portrait=np.zeros(shape=(6040,18), dtype= np.int32)\n",
    "    for i in range(len(userId)):\n",
    "        attr_list=np.int32(attr[i].split(','))\n",
    "        for j in attr_list:\n",
    "            user_portrait[userId[i]][j]+=1\n",
    "    pd.DataFrame(user_portrait).to_csv('generate_data/user_attribute.csv',index=False,columns=[0,1,2,3,4,5,6,7,8,9,10,11,12,13,14,15,16,17]) #物品属性数18\n",
    "    \n",
    "#对user_atrribute进行归一化\n",
    "def user_attr_normal():\n",
    "    user_attr_pd=pd.read_csv('generate_data/user_attribute.csv')\n",
    "    sum_list=user_attr_pd.apply(lambda x:x.sum(),axis=1) #按行归一化\n",
    "    user_attr=np.array(user_attr_pd,dtype=np.float32)\n",
    "    for i in range(6040):\n",
    "        if sum_list[i]!=0:\n",
    "            for j in range(18):\n",
    "                user_attr[i][j]=user_attr[i][j]/sum_list[i]\n",
    "                \n",
    "    pd.DataFrame(user_attr).to_csv('generate_data/user_attribute_normal.csv',index=False,columns=[0,1,2,3,4,5,6,7,8,9,10,11,12,13,14,15,16,17])"
   ]
  },
  {
   "cell_type": "code",
   "execution_count": 3,
   "metadata": {},
   "outputs": [
    {
     "data": {
      "text/plain": [
       "'get_UserAttribute()\\nuser_attr_normal()'"
      ]
     },
     "execution_count": 3,
     "metadata": {},
     "output_type": "execute_result"
    }
   ],
   "source": [
    "get_UserItemMatrix()\n",
    "get_UserAttribute()\n",
    "user_attr_normal()"
   ]
  },
  {
   "cell_type": "code",
   "execution_count": null,
   "metadata": {},
   "outputs": [],
   "source": []
  }
 ],
 "metadata": {
  "kernelspec": {
   "display_name": "Python 3",
   "language": "python",
   "name": "python3"
  },
  "language_info": {
   "codemirror_mode": {
    "name": "ipython",
    "version": 3
   },
   "file_extension": ".py",
   "mimetype": "text/x-python",
   "name": "python",
   "nbconvert_exporter": "python",
   "pygments_lexer": "ipython3",
   "version": "3.6.6"
  }
 },
 "nbformat": 4,
 "nbformat_minor": 4
}
